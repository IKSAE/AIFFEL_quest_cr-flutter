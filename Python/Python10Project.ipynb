{
  "nbformat": 4,
  "nbformat_minor": 0,
  "metadata": {
    "colab": {
      "provenance": [],
      "authorship_tag": "ABX9TyN15msopYzDm+ElNrd5XSmv",
      "include_colab_link": true
    },
    "kernelspec": {
      "name": "python3",
      "display_name": "Python 3"
    },
    "language_info": {
      "name": "python"
    }
  },
  "cells": [
    {
      "cell_type": "markdown",
      "metadata": {
        "id": "view-in-github",
        "colab_type": "text"
      },
      "source": [
        "<a href=\"https://colab.research.google.com/github/tosm02/AIFFEL_quest_cr/blob/main/Python/Python10Project.ipynb\" target=\"_parent\"><img src=\"https://colab.research.google.com/assets/colab-badge.svg\" alt=\"Open In Colab\"/></a>"
      ]
    },
    {
      "cell_type": "code",
      "execution_count": 15,
      "metadata": {
        "id": "koMahbnLsGlj"
      },
      "outputs": [],
      "source": [
        "menu = ['americano', 'latte', 'mocha', 'yuza_tea', 'green_tea', 'choco_latte']\n",
        "price = [2000, 3000, 3000, 2500, 2500, 3000]"
      ]
    },
    {
      "cell_type": "code",
      "source": [
        "class Kiosk:\n",
        "    def __init__(self):\n",
        "        self.menu = menu\n",
        "        self.price = price\n",
        "\n",
        "    # 메뉴 출력 메서드\n",
        "    def menu_print(self):\n",
        "        for i in range(len(self.menu)):\n",
        "            print(i + 1, self.menu[i], ' : ', self.price[i], '원')\n",
        "\n",
        "\n",
        "    # 주문 메서드\n",
        "    def menu_select(self):\n",
        "        self.order_menu = []  # 주문 리스트\n",
        "        self.order_price = []  # 가격 리스트\n",
        "\n",
        "        n = 0\n",
        "        while n < 1 or len(menu) < n:\n",
        "            n = int(input(\"음료를 번호를 입력하세요 : \"))  # 음료 번호 입력\n",
        "\n",
        "            # 메뉴판에 있는 음료 번호일 때\n",
        "            if 1 <= n & n <= len(menu):\n",
        "                self.order_price.append(self.price[n-1])  # 가격 리스트에 추가합니다.\n",
        "                self.price_sum = self.price[n-1]  # 합계 금액\n",
        "\n",
        "            # 메뉴판에 없는 번호일 때\n",
        "            else:\n",
        "                print(\"없는 메뉴입니다. 다시 주문해 주세요.\")\n",
        "\n",
        "\n",
        "        # 음료 온도 물어보기\n",
        "        t = 0  # 기본값을 넣어주고\n",
        "        while t != 1 and t != 2:  # 1이나 2를 입력할 때까지 물어보기\n",
        "            t= int(input(\"HOT 음료는 1을, ICE 음료는 2를 입력하세요 : \"))\n",
        "\n",
        "            if t==1:\n",
        "                self.temp = 'HOT'\n",
        "            elif t==2:\n",
        "                self.temp = 'ICE'\n",
        "            else:\n",
        "                print(\"1과 2 중 하나를 입력하세요.\\n\")\n",
        "\n",
        "        self.order_menu.append(self.temp + ' ' + self.menu[n-1])  # 주문 리스트에 추가합니다.\n",
        "\n",
        "        print(self.temp, self.menu[n-1], ' : ', self.price_sum, '원')  # 온도 속성을 추가한 주문 결과를 출력합니다.\n",
        "\n",
        "        # 추가 주문 또는 지불\n",
        "        while n != 0:  # 지불을 선택하기 전까지 반복합니다.\n",
        "            print()  # 줄 바꾸면서\n",
        "            n = int(input(\"추가 주문은 음료 번호를, 지불은 0을 누르세요 : \"))  # 추가 주문 또는 지불\n",
        "            if n > 0 and n < len(self.menu) + 1:\n",
        "\n",
        "                # 추가 음료의 온도를 입력받고, 가격 리스트, 주문 리스트, 합계 금액을 업데이트해보세요.\n",
        "                # 추가 음료 온도\n",
        "                t = 0\n",
        "                while t != 1 and t != 2:\n",
        "                    t = int(input(\"HOT 음료는 1을, ICE 음료는 2를 입력하세요: \"))\n",
        "                    if t == 1:\n",
        "                        self.temp = 'HOT'\n",
        "                    elif t == 2:\n",
        "                        self.temp = 'ICE'\n",
        "                    else:\n",
        "                        print(\"1과 2 중 하나를 입력하세요.\\n\")\n",
        "\n",
        "                self.order_menu.append(self.temp + ' ' + self.menu[n - 1])  # 주문 리스트에 추가\n",
        "                self.order_price.append(self.price[n - 1])  # 가격 리스트에 추가\n",
        "                self.price_sum += self.price[n - 1]  # 합계 금액에 추가\n",
        "\n",
        "                print('추가 주문 음료', self.temp + ' ' + self.menu[n - 1], ':', self.price[n - 1], '원\\n', '합계 : ', self.price_sum, '원')\n",
        "            elif n == 0 :  # 지불을 입력하면\n",
        "                print(\"주문이 완료되었습니다.\")\n",
        "                print(self.order_menu, self.order_price)  # 확인을 위한 리스트를 출력합니다.\n",
        "                break         # 루프 탈출\n",
        "            else :  # 없는 번호를 입력할 때\n",
        "                print(\"없는 메뉴입니다. 다시 주문해 주세요.\")\n",
        "\n",
        "    # 지불\n",
        "    def pay(self):\n",
        "        pay_num = 0\n",
        "        while pay_num != 1 and pay_num != 2:  # 1이나 2를 입력할 때까지 물어보기\n",
        "            pay_num= int(input(\"현금 결제는 1을, 카드 결제는 2를 입력하세요 : \"))\n",
        "            if pay_num==1:\n",
        "                print(\"직원을 호출하겠습니다.\")\n",
        "            elif pay_num==2:\n",
        "                print(\"IC칩 방향에 맞게 카드를 꽂아주세요.\")\n",
        "            else:\n",
        "                print(\"다시 결제를 시도해 주세요.\\n\")\n",
        "\n",
        "    # 주문서 출력\n",
        "    def table(self):\n",
        "        # 외곽\n",
        "        print('⟝' + '-' * 30 + '⟞')\n",
        "        for i in range(5):\n",
        "            print('|' + ' ' * 31 + '|')\n",
        "\n",
        "        # 주문 상품명과 금액 출력\n",
        "        for i in range(len(self.order_menu)):\n",
        "            print(self.order_menu[i], ' : ', self.order_price[i])\n",
        "\n",
        "        # 합계 금액 출력\n",
        "        print('합계 금액 :', sum(self.order_price))\n",
        "\n",
        "        # 외곽\n",
        "        for i in range(5):\n",
        "            print('|' + ' ' * 31+ '|')\n",
        "        print('⟝' + '-' * 30 + '⟞')"
      ],
      "metadata": {
        "id": "901GLor55fcR"
      },
      "execution_count": 18,
      "outputs": []
    },
    {
      "cell_type": "code",
      "source": [
        "a = Kiosk()  # 객체 생성\n",
        "a.menu_print()  # 메뉴 출력\n",
        "a.menu_select()  # 주문\n",
        "a.pay()  # 지불\n",
        "a.table()  # 주문표 출력"
      ],
      "metadata": {
        "colab": {
          "base_uri": "https://localhost:8080/"
        },
        "id": "uSzY9BSWFs_C",
        "outputId": "d76d4310-bd2a-49f1-d437-eb6cec7cb6ae"
      },
      "execution_count": 19,
      "outputs": [
        {
          "output_type": "stream",
          "name": "stdout",
          "text": [
            "1 americano  :  2000 원\n",
            "2 latte  :  3000 원\n",
            "3 mocha  :  3000 원\n",
            "4 yuza_tea  :  2500 원\n",
            "5 green_tea  :  2500 원\n",
            "6 choco_latte  :  3000 원\n",
            "음료를 번호를 입력하세요 : 1\n",
            "HOT 음료는 1을, ICE 음료는 2를 입력하세요 : 2\n",
            "ICE americano  :  2000 원\n",
            "\n",
            "추가 주문은 음료 번호를, 지불은 0을 누르세요 : 1\n",
            "HOT 음료는 1을, ICE 음료는 2를 입력하세요: 2\n",
            "추가 주문 음료 ICE americano : 2000 원\n",
            " 합계 :  4000 원\n",
            "\n",
            "추가 주문은 음료 번호를, 지불은 0을 누르세요 : 5\n",
            "HOT 음료는 1을, ICE 음료는 2를 입력하세요: 2\n",
            "추가 주문 음료 ICE green_tea : 2500 원\n",
            " 합계 :  6500 원\n",
            "\n",
            "추가 주문은 음료 번호를, 지불은 0을 누르세요 : 6\n",
            "HOT 음료는 1을, ICE 음료는 2를 입력하세요: 2\n",
            "추가 주문 음료 ICE choco_latte : 3000 원\n",
            " 합계 :  9500 원\n",
            "\n",
            "추가 주문은 음료 번호를, 지불은 0을 누르세요 : 0\n",
            "주문이 완료되었습니다.\n",
            "['ICE americano', 'ICE americano', 'ICE green_tea', 'ICE choco_latte'] [2000, 2000, 2500, 3000]\n",
            "현금 결제는 1을, 카드 결제는 2를 입력하세요 : 2\n",
            "IC칩 방향에 맞게 카드를 꽂아주세요.\n",
            "⟝------------------------------⟞\n",
            "|                               |\n",
            "|                               |\n",
            "|                               |\n",
            "|                               |\n",
            "|                               |\n",
            "ICE americano  :  2000\n",
            "ICE americano  :  2000\n",
            "ICE green_tea  :  2500\n",
            "ICE choco_latte  :  3000\n",
            "합계 금액 : 9500\n",
            "|                               |\n",
            "|                               |\n",
            "|                               |\n",
            "|                               |\n",
            "|                               |\n",
            "⟝------------------------------⟞\n"
          ]
        }
      ]
    },
    {
      "cell_type": "code",
      "source": [],
      "metadata": {
        "id": "hGt4wgqFFteb"
      },
      "execution_count": null,
      "outputs": []
    }
  ]
}