{
  "nbformat": 4,
  "nbformat_minor": 0,
  "metadata": {
    "colab": {
      "provenance": [],
      "include_colab_link": true
    },
    "kernelspec": {
      "name": "python3",
      "display_name": "Python 3"
    },
    "language_info": {
      "name": "python"
    }
  },
  "cells": [
    {
      "cell_type": "markdown",
      "metadata": {
        "id": "view-in-github",
        "colab_type": "text"
      },
      "source": [
        "<a href=\"https://colab.research.google.com/github/tosm02/AIFFEL_quest_cr/blob/main/Python/Quest04/PythonQuest04.ipynb\" target=\"_parent\"><img src=\"https://colab.research.google.com/assets/colab-badge.svg\" alt=\"Open In Colab\"/></a>"
      ]
    },
    {
      "cell_type": "markdown",
      "source": [
        "[QUEST 04] 파이썬을 사용하여 간단한 계산기 프로그램 만들기\n",
        "\n",
        "• 사용자로부터 두 개의 정수와 연산자(+, ,*/,**)를 입력받아 계산 결과를 출력하는 프로그램을 만들어주세요\n",
        "\n",
        "<조건>\n",
        "\n",
        "• 사용자가 입력한 값이 정수가 아닌 경우 ValueError를 처리하여 적절한 오류 메시지를 출력해야 합니다\n",
        "\n",
        "• 정수가 입력될 때 까지 \"잘못된 입력입니다. 정수를 입력해주세요.\"를 출력하며 다시 입력받기를 시도합니다.\n",
        "\n",
        "• 나눗셈 연산 시 두 번째 정수가 0인 경우 ZeroDivisionError를 처리하여 적절한 오류 메시지를 출력합니다.\n",
        "\n",
        "• 사용자가 지원하지 않는 연산자를 입력한 경우 적절한 오류 메시지를 출력합니다.\n",
        "\n",
        "math 모듈을 사용하여 제곱 연산(**)을 지원합니다.\n",
        "\n",
        "• 계산기를 통해 계속 계산을 할 것인지 입력받습니다."
      ],
      "metadata": {
        "id": "QE3TnmDNwH5N"
      }
    },
    {
      "cell_type": "code",
      "source": [
        "# math 모듈 불러오기\n",
        "import math\n",
        "\n",
        "# 정수를 입력 받는 함수\n",
        "def number_input(number):\n",
        "   while True:\n",
        "    try:\n",
        "      return int(input(number))     # 입력받은 숫자를 정수로 변환\n",
        "    except ValueError:\n",
        "      print( \"잘못된 입력입니다. 정수를 입력해주세요.\")   # 정수가 아닌 경우 ValueError 처리 및 다시 입력 메세지 출력\n",
        "\n",
        "\n",
        "# 연산자를 입력 받는 함수\n",
        "def operator_input(answer_operator):\n",
        "  valid_operators = ['+', '-', '*', '/', '**']    # 지원 가능한 연산자 정의\n",
        "  while True:\n",
        "    operator = input(answer_operator)   # 입력 받은 연산자\n",
        "    if operator in valid_operators:     # 유효한 연산자를 입력했을 경우 그대로 반환\n",
        "      return operator\n",
        "    else:                               # 그렇지 않을 경우 다시 입력 메세지 출력\n",
        "       print(\"지원하지 않는 연산자입니다. 다시 입력해주세요.\")\n",
        "\n",
        "\n",
        "# 계산하는 함수\n",
        "def caculate(a,b,operator):\n",
        "  try:\n",
        "    if operator == '+':         # 더하기\n",
        "      return a + b\n",
        "\n",
        "    elif operator == '-':       # 빼기\n",
        "      return a - b\n",
        "\n",
        "    elif operator == '/':       # 나누기\n",
        "      return a / b\n",
        "\n",
        "    elif operator == '*':       # 곱하기\n",
        "      return a * b\n",
        "\n",
        "    elif operator == '**':      # 제곱 (math 모듈의 pow 함수 활용)\n",
        "      return math.pow(a, b)\n",
        "\n",
        "  except ZeroDivisionError:     # 나눗셈에서 b가 0인 경우 에러 처리\n",
        "    print(\"0으로 나눌 수 없습니다\")\n",
        "    return None\n",
        "\n",
        "\n",
        "# 계산 실행 함수\n",
        "def calculator():\n",
        "  while True:\n",
        "    a = number_input(\"첫 번째 정수를 입력하세요: \")   # 입력 메세지 출력\n",
        "    b = number_input(\"두 번째 정수를 입력하세요: \")\n",
        "    operator = operator_input(\"연산자를 입력하세요(+, -, *, /, **): \")    # 입력 메세지에서 유효한 연산자 제시\n",
        "\n",
        "    result = caculate(a, b, operator)\n",
        "    print(f\"결과: {result}\")          # 결과 출력\n",
        "\n",
        "    # 계산을 계속 할 것인지 묻기 (대문자로 입력할 경우를 대비하여 입력 받은 문자 소문자로 처리)\n",
        "    continue_ask = input(\"계속 계산하시겠습니까? (y/n): \").lower()\n",
        "\n",
        "    if continue_ask != 'y':       # y가 아닐 경우 루프 탈출 (프로그램 종료)\n",
        "      print(\"계산을 종료합니다.\")\n",
        "      break\n",
        "\n",
        "\n",
        "# 프로그램 실행\n",
        "calculator()"
      ],
      "metadata": {
        "id": "AS_MKuUTwGqC"
      },
      "execution_count": null,
      "outputs": []
    },
    {
      "cell_type": "markdown",
      "source": [
        "#회고\n",
        "\n",
        "- 박단영: 어제 배운 예외 처리를 활용하여 처음으로 긴 코드를 무사히 작성한 것 같아서 뿌듯하다.\n",
        "변수명을 'continue'라고 작성한 게 있었는데, 맨 처음에 배웠던 금지된 변수명 규칙을 까먹은 거 같다. 그래서 continue_ask 로 변수명을 변경하니 정상 작동하였다. 이렇게 코드를 직접 작성하며 실습을 하니 배운지 오래된 것들도 자연스럽게 다시 복습할 수 있고 좋은 것 같다.\n",
        "\n",
        "\n",
        "- 이익현: 어제 공부한거를 오늘 직접 써보니 이해하는데 도움이 되었고 변수명을 continue 로 했다가 구문오류가 떳는데 continue가 예약어라는게 기억나서 변수명을 바꿔서 해결하였다."
      ],
      "metadata": {
        "id": "VlMonkFI5fIC"
      }
    },
    {
      "cell_type": "code",
      "source": [],
      "metadata": {
        "id": "O_rj7cLC6XkE"
      },
      "execution_count": null,
      "outputs": []
    }
  ]
}